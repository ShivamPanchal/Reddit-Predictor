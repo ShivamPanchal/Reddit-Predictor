{
 "cells": [
  {
   "cell_type": "markdown",
   "metadata": {},
   "source": [
    "# Reddit Predictor - DS Task"
   ]
  },
  {
   "cell_type": "markdown",
   "metadata": {},
   "source": [
    "Making a rank/score predictor based on the dataset with Cross validation.\n",
    "\n"
   ]
  },
  {
   "cell_type": "markdown",
   "metadata": {},
   "source": [
    "# Installing a package in python"
   ]
  },
  {
   "cell_type": "code",
   "execution_count": 2,
   "metadata": {
    "collapsed": true
   },
   "outputs": [],
   "source": [
    "import pip    \n",
    "def install(package):\n",
    "   pip.main(['install', package])\n",
    "\n",
    "# install('package_name')\n",
    "\n"
   ]
  },
  {
   "cell_type": "markdown",
   "metadata": {},
   "source": [
    "# Loading required packages"
   ]
  },
  {
   "cell_type": "code",
   "execution_count": 3,
   "metadata": {
    "collapsed": true
   },
   "outputs": [],
   "source": [
    "%matplotlib inline\n",
    "import numpy as np\n",
    "import matplotlib.pyplot as plt\n",
    "import seaborn; # Seaborn is a library for making attractive and informative statistical graphics in Python\n",
    "from sklearn.linear_model import LinearRegression\n",
    "import pylab as pl\n",
    "\n",
    "seaborn.set()\n"
   ]
  },
  {
   "cell_type": "markdown",
   "metadata": {},
   "source": [
    "# Getting the current working directory and changing the directory as well."
   ]
  },
  {
   "cell_type": "code",
   "execution_count": 4,
   "metadata": {
    "collapsed": false
   },
   "outputs": [
    {
     "name": "stdout",
     "output_type": "stream",
     "text": [
      "C:\\Users\\Shivam Panchal\\Documents\\scikit-learn-data analysis in python\\scikit-learn-videos-master\n"
     ]
    }
   ],
   "source": [
    "import os\n",
    "print os.getcwd()\n",
    "os.chdir('C://users/Shivam Panchal/Documents')"
   ]
  },
  {
   "cell_type": "code",
   "execution_count": 5,
   "metadata": {
    "collapsed": true
   },
   "outputs": [],
   "source": [
    "# Importing the Data\n",
    "import pandas as pd \n",
    "data = pd.read_csv('AmericanPolitics.csv')"
   ]
  },
  {
   "cell_type": "markdown",
   "metadata": {},
   "source": [
    "# Exploration of Data"
   ]
  },
  {
   "cell_type": "code",
   "execution_count": 6,
   "metadata": {
    "collapsed": false
   },
   "outputs": [
    {
     "data": {
      "text/plain": [
       "['created_utc',\n",
       " 'score',\n",
       " 'domain',\n",
       " 'id',\n",
       " 'title',\n",
       " 'author',\n",
       " 'ups',\n",
       " 'downs',\n",
       " 'num_comments',\n",
       " 'permalink',\n",
       " 'selftext',\n",
       " 'link_flair_text',\n",
       " 'over_18',\n",
       " 'thumbnail',\n",
       " 'subreddit_id',\n",
       " 'edited',\n",
       " 'link_flair_css_class',\n",
       " 'author_flair_css_class',\n",
       " 'is_self',\n",
       " 'name',\n",
       " 'url',\n",
       " 'distinguished']"
      ]
     },
     "execution_count": 6,
     "metadata": {},
     "output_type": "execute_result"
    }
   ],
   "source": [
    "list(data.columns)"
   ]
  },
  {
   "cell_type": "code",
   "execution_count": 7,
   "metadata": {
    "collapsed": false
   },
   "outputs": [
    {
     "data": {
      "text/html": [
       "<div>\n",
       "<table border=\"1\" class=\"dataframe\">\n",
       "  <thead>\n",
       "    <tr style=\"text-align: right;\">\n",
       "      <th></th>\n",
       "      <th>created_utc</th>\n",
       "      <th>score</th>\n",
       "      <th>domain</th>\n",
       "      <th>id</th>\n",
       "      <th>title</th>\n",
       "      <th>author</th>\n",
       "      <th>ups</th>\n",
       "      <th>downs</th>\n",
       "      <th>num_comments</th>\n",
       "      <th>permalink</th>\n",
       "      <th>...</th>\n",
       "      <th>over_18</th>\n",
       "      <th>thumbnail</th>\n",
       "      <th>subreddit_id</th>\n",
       "      <th>edited</th>\n",
       "      <th>link_flair_css_class</th>\n",
       "      <th>author_flair_css_class</th>\n",
       "      <th>is_self</th>\n",
       "      <th>name</th>\n",
       "      <th>url</th>\n",
       "      <th>distinguished</th>\n",
       "    </tr>\n",
       "  </thead>\n",
       "  <tbody>\n",
       "    <tr>\n",
       "      <th>0</th>\n",
       "      <td>1.360063e+09</td>\n",
       "      <td>75</td>\n",
       "      <td>reason.com</td>\n",
       "      <td>17xesg</td>\n",
       "      <td>Someone Just Leaked Obama's Rules for Assassin...</td>\n",
       "      <td>thebrightsideoflife</td>\n",
       "      <td>80</td>\n",
       "      <td>5</td>\n",
       "      <td>24</td>\n",
       "      <td>http://www.reddit.com/r/AmericanPolitics/comme...</td>\n",
       "      <td>...</td>\n",
       "      <td>False</td>\n",
       "      <td>NaN</td>\n",
       "      <td>t5_2qied</td>\n",
       "      <td>False</td>\n",
       "      <td>NaN</td>\n",
       "      <td>NaN</td>\n",
       "      <td>False</td>\n",
       "      <td>t3_17xesg</td>\n",
       "      <td>http://reason.com/blog/2013/02/04/someone-just...</td>\n",
       "      <td>NaN</td>\n",
       "    </tr>\n",
       "    <tr>\n",
       "      <th>1</th>\n",
       "      <td>1.358034e+09</td>\n",
       "      <td>63</td>\n",
       "      <td>petitions.whitehouse.gov</td>\n",
       "      <td>16gmw0</td>\n",
       "      <td>Remove United States District Attorney Carmen ...</td>\n",
       "      <td>djdonnell</td>\n",
       "      <td>72</td>\n",
       "      <td>9</td>\n",
       "      <td>2</td>\n",
       "      <td>http://www.reddit.com/r/AmericanPolitics/comme...</td>\n",
       "      <td>...</td>\n",
       "      <td>False</td>\n",
       "      <td>NaN</td>\n",
       "      <td>t5_2qied</td>\n",
       "      <td>False</td>\n",
       "      <td>NaN</td>\n",
       "      <td>NaN</td>\n",
       "      <td>False</td>\n",
       "      <td>t3_16gmw0</td>\n",
       "      <td>https://petitions.whitehouse.gov/petition/remo...</td>\n",
       "      <td>NaN</td>\n",
       "    </tr>\n",
       "    <tr>\n",
       "      <th>2</th>\n",
       "      <td>1.363187e+09</td>\n",
       "      <td>54</td>\n",
       "      <td>slate.com</td>\n",
       "      <td>1a7ule</td>\n",
       "      <td>Barack Obama promised transparency: The White ...</td>\n",
       "      <td>thebrightsideoflife</td>\n",
       "      <td>61</td>\n",
       "      <td>7</td>\n",
       "      <td>1</td>\n",
       "      <td>http://www.reddit.com/r/AmericanPolitics/comme...</td>\n",
       "      <td>...</td>\n",
       "      <td>False</td>\n",
       "      <td>NaN</td>\n",
       "      <td>t5_2qied</td>\n",
       "      <td>False</td>\n",
       "      <td>NaN</td>\n",
       "      <td>NaN</td>\n",
       "      <td>False</td>\n",
       "      <td>t3_1a7ule</td>\n",
       "      <td>http://www.slate.com/articles/news_and_politic...</td>\n",
       "      <td>NaN</td>\n",
       "    </tr>\n",
       "    <tr>\n",
       "      <th>3</th>\n",
       "      <td>1.350433e+09</td>\n",
       "      <td>44</td>\n",
       "      <td>rt.com</td>\n",
       "      <td>11lmw4</td>\n",
       "      <td>Police arrest US presidential candidate Jill S...</td>\n",
       "      <td>molib</td>\n",
       "      <td>48</td>\n",
       "      <td>4</td>\n",
       "      <td>13</td>\n",
       "      <td>http://www.reddit.com/r/AmericanPolitics/comme...</td>\n",
       "      <td>...</td>\n",
       "      <td>False</td>\n",
       "      <td>NaN</td>\n",
       "      <td>t5_2qied</td>\n",
       "      <td>False</td>\n",
       "      <td>NaN</td>\n",
       "      <td>NaN</td>\n",
       "      <td>False</td>\n",
       "      <td>t3_11lmw4</td>\n",
       "      <td>https://rt.com/usa/news/police-jill-stein-deba...</td>\n",
       "      <td>NaN</td>\n",
       "    </tr>\n",
       "    <tr>\n",
       "      <th>4</th>\n",
       "      <td>1.313470e+09</td>\n",
       "      <td>42</td>\n",
       "      <td>mediaite.com</td>\n",
       "      <td>jk5ey</td>\n",
       "      <td>Jon Stewart Scolds Media For Ignoring Rep. Ron...</td>\n",
       "      <td>thebrightsideoflife</td>\n",
       "      <td>49</td>\n",
       "      <td>7</td>\n",
       "      <td>3</td>\n",
       "      <td>http://www.reddit.com/r/AmericanPolitics/comme...</td>\n",
       "      <td>...</td>\n",
       "      <td>False</td>\n",
       "      <td>NaN</td>\n",
       "      <td>t5_2qied</td>\n",
       "      <td>False</td>\n",
       "      <td>NaN</td>\n",
       "      <td>NaN</td>\n",
       "      <td>False</td>\n",
       "      <td>t3_jk5ey</td>\n",
       "      <td>http://www.mediaite.com/tv/jon-stewart-scolds-...</td>\n",
       "      <td>NaN</td>\n",
       "    </tr>\n",
       "    <tr>\n",
       "      <th>5</th>\n",
       "      <td>1.370519e+09</td>\n",
       "      <td>40</td>\n",
       "      <td>theatlantic.com</td>\n",
       "      <td>1fs9gh</td>\n",
       "      <td>Thank You, Unknown Patriot, for Exposing the S...</td>\n",
       "      <td>daylily</td>\n",
       "      <td>40</td>\n",
       "      <td>0</td>\n",
       "      <td>7</td>\n",
       "      <td>http://www.reddit.com/r/AmericanPolitics/comme...</td>\n",
       "      <td>...</td>\n",
       "      <td>False</td>\n",
       "      <td>NaN</td>\n",
       "      <td>t5_2qied</td>\n",
       "      <td>False</td>\n",
       "      <td>NaN</td>\n",
       "      <td>NaN</td>\n",
       "      <td>False</td>\n",
       "      <td>t3_1fs9gh</td>\n",
       "      <td>http://www.theatlantic.com/politics/archive/20...</td>\n",
       "      <td>NaN</td>\n",
       "    </tr>\n",
       "    <tr>\n",
       "      <th>6</th>\n",
       "      <td>1.352397e+09</td>\n",
       "      <td>39</td>\n",
       "      <td>i.imgur.com</td>\n",
       "      <td>12v6qt</td>\n",
       "      <td>Forward: Same as it ever was.</td>\n",
       "      <td>esparza74</td>\n",
       "      <td>60</td>\n",
       "      <td>21</td>\n",
       "      <td>15</td>\n",
       "      <td>http://www.reddit.com/r/AmericanPolitics/comme...</td>\n",
       "      <td>...</td>\n",
       "      <td>False</td>\n",
       "      <td>NaN</td>\n",
       "      <td>t5_2qied</td>\n",
       "      <td>False</td>\n",
       "      <td>NaN</td>\n",
       "      <td>NaN</td>\n",
       "      <td>False</td>\n",
       "      <td>t3_12v6qt</td>\n",
       "      <td>http://i.imgur.com/mS0qX.jpg</td>\n",
       "      <td>NaN</td>\n",
       "    </tr>\n",
       "    <tr>\n",
       "      <th>7</th>\n",
       "      <td>1.368535e+09</td>\n",
       "      <td>39</td>\n",
       "      <td>youtube.com</td>\n",
       "      <td>1eb6jf</td>\n",
       "      <td>Jon Stewart Destroys Obama Over IRS Scandal, '...</td>\n",
       "      <td>thebrightsideoflife</td>\n",
       "      <td>45</td>\n",
       "      <td>6</td>\n",
       "      <td>60</td>\n",
       "      <td>http://www.reddit.com/r/AmericanPolitics/comme...</td>\n",
       "      <td>...</td>\n",
       "      <td>False</td>\n",
       "      <td>NaN</td>\n",
       "      <td>t5_2qied</td>\n",
       "      <td>False</td>\n",
       "      <td>NaN</td>\n",
       "      <td>NaN</td>\n",
       "      <td>False</td>\n",
       "      <td>t3_1eb6jf</td>\n",
       "      <td>https://www.youtube.com/watch?feature=player_e...</td>\n",
       "      <td>NaN</td>\n",
       "    </tr>\n",
       "    <tr>\n",
       "      <th>8</th>\n",
       "      <td>1.347925e+09</td>\n",
       "      <td>41</td>\n",
       "      <td>motherjones.com</td>\n",
       "      <td>101sd8</td>\n",
       "      <td>SECRET VIDEO: Romney Tells Millionaire Donors ...</td>\n",
       "      <td>yBagno</td>\n",
       "      <td>48</td>\n",
       "      <td>7</td>\n",
       "      <td>2</td>\n",
       "      <td>http://www.reddit.com/r/AmericanPolitics/comme...</td>\n",
       "      <td>...</td>\n",
       "      <td>False</td>\n",
       "      <td>NaN</td>\n",
       "      <td>t5_2qied</td>\n",
       "      <td>False</td>\n",
       "      <td>NaN</td>\n",
       "      <td>NaN</td>\n",
       "      <td>False</td>\n",
       "      <td>t3_101sd8</td>\n",
       "      <td>http://www.motherjones.com/politics/2012/09/se...</td>\n",
       "      <td>NaN</td>\n",
       "    </tr>\n",
       "    <tr>\n",
       "      <th>9</th>\n",
       "      <td>1.321310e+09</td>\n",
       "      <td>38</td>\n",
       "      <td>youtube.com</td>\n",
       "      <td>mcaml</td>\n",
       "      <td>Herman Cain struggles to answer question about...</td>\n",
       "      <td>luvcrunch</td>\n",
       "      <td>42</td>\n",
       "      <td>4</td>\n",
       "      <td>8</td>\n",
       "      <td>http://www.reddit.com/r/AmericanPolitics/comme...</td>\n",
       "      <td>...</td>\n",
       "      <td>False</td>\n",
       "      <td>NaN</td>\n",
       "      <td>t5_2qied</td>\n",
       "      <td>False</td>\n",
       "      <td>NaN</td>\n",
       "      <td>NaN</td>\n",
       "      <td>False</td>\n",
       "      <td>t3_mcaml</td>\n",
       "      <td>http://www.youtube.com/watch?v=WW_nDFKAmCo</td>\n",
       "      <td>NaN</td>\n",
       "    </tr>\n",
       "  </tbody>\n",
       "</table>\n",
       "<p>10 rows × 22 columns</p>\n",
       "</div>"
      ],
      "text/plain": [
       "    created_utc  score                    domain      id  \\\n",
       "0  1.360063e+09     75                reason.com  17xesg   \n",
       "1  1.358034e+09     63  petitions.whitehouse.gov  16gmw0   \n",
       "2  1.363187e+09     54                 slate.com  1a7ule   \n",
       "3  1.350433e+09     44                    rt.com  11lmw4   \n",
       "4  1.313470e+09     42              mediaite.com   jk5ey   \n",
       "5  1.370519e+09     40           theatlantic.com  1fs9gh   \n",
       "6  1.352397e+09     39               i.imgur.com  12v6qt   \n",
       "7  1.368535e+09     39               youtube.com  1eb6jf   \n",
       "8  1.347925e+09     41           motherjones.com  101sd8   \n",
       "9  1.321310e+09     38               youtube.com   mcaml   \n",
       "\n",
       "                                               title               author  \\\n",
       "0  Someone Just Leaked Obama's Rules for Assassin...  thebrightsideoflife   \n",
       "1  Remove United States District Attorney Carmen ...            djdonnell   \n",
       "2  Barack Obama promised transparency: The White ...  thebrightsideoflife   \n",
       "3  Police arrest US presidential candidate Jill S...                molib   \n",
       "4  Jon Stewart Scolds Media For Ignoring Rep. Ron...  thebrightsideoflife   \n",
       "5  Thank You, Unknown Patriot, for Exposing the S...              daylily   \n",
       "6                      Forward: Same as it ever was.            esparza74   \n",
       "7  Jon Stewart Destroys Obama Over IRS Scandal, '...  thebrightsideoflife   \n",
       "8  SECRET VIDEO: Romney Tells Millionaire Donors ...               yBagno   \n",
       "9  Herman Cain struggles to answer question about...            luvcrunch   \n",
       "\n",
       "   ups  downs  num_comments  \\\n",
       "0   80      5            24   \n",
       "1   72      9             2   \n",
       "2   61      7             1   \n",
       "3   48      4            13   \n",
       "4   49      7             3   \n",
       "5   40      0             7   \n",
       "6   60     21            15   \n",
       "7   45      6            60   \n",
       "8   48      7             2   \n",
       "9   42      4             8   \n",
       "\n",
       "                                           permalink      ...      over_18  \\\n",
       "0  http://www.reddit.com/r/AmericanPolitics/comme...      ...        False   \n",
       "1  http://www.reddit.com/r/AmericanPolitics/comme...      ...        False   \n",
       "2  http://www.reddit.com/r/AmericanPolitics/comme...      ...        False   \n",
       "3  http://www.reddit.com/r/AmericanPolitics/comme...      ...        False   \n",
       "4  http://www.reddit.com/r/AmericanPolitics/comme...      ...        False   \n",
       "5  http://www.reddit.com/r/AmericanPolitics/comme...      ...        False   \n",
       "6  http://www.reddit.com/r/AmericanPolitics/comme...      ...        False   \n",
       "7  http://www.reddit.com/r/AmericanPolitics/comme...      ...        False   \n",
       "8  http://www.reddit.com/r/AmericanPolitics/comme...      ...        False   \n",
       "9  http://www.reddit.com/r/AmericanPolitics/comme...      ...        False   \n",
       "\n",
       "   thumbnail subreddit_id  edited link_flair_css_class author_flair_css_class  \\\n",
       "0        NaN     t5_2qied   False                  NaN                    NaN   \n",
       "1        NaN     t5_2qied   False                  NaN                    NaN   \n",
       "2        NaN     t5_2qied   False                  NaN                    NaN   \n",
       "3        NaN     t5_2qied   False                  NaN                    NaN   \n",
       "4        NaN     t5_2qied   False                  NaN                    NaN   \n",
       "5        NaN     t5_2qied   False                  NaN                    NaN   \n",
       "6        NaN     t5_2qied   False                  NaN                    NaN   \n",
       "7        NaN     t5_2qied   False                  NaN                    NaN   \n",
       "8        NaN     t5_2qied   False                  NaN                    NaN   \n",
       "9        NaN     t5_2qied   False                  NaN                    NaN   \n",
       "\n",
       "   is_self       name                                                url  \\\n",
       "0    False  t3_17xesg  http://reason.com/blog/2013/02/04/someone-just...   \n",
       "1    False  t3_16gmw0  https://petitions.whitehouse.gov/petition/remo...   \n",
       "2    False  t3_1a7ule  http://www.slate.com/articles/news_and_politic...   \n",
       "3    False  t3_11lmw4  https://rt.com/usa/news/police-jill-stein-deba...   \n",
       "4    False   t3_jk5ey  http://www.mediaite.com/tv/jon-stewart-scolds-...   \n",
       "5    False  t3_1fs9gh  http://www.theatlantic.com/politics/archive/20...   \n",
       "6    False  t3_12v6qt                       http://i.imgur.com/mS0qX.jpg   \n",
       "7    False  t3_1eb6jf  https://www.youtube.com/watch?feature=player_e...   \n",
       "8    False  t3_101sd8  http://www.motherjones.com/politics/2012/09/se...   \n",
       "9    False   t3_mcaml         http://www.youtube.com/watch?v=WW_nDFKAmCo   \n",
       "\n",
       "  distinguished  \n",
       "0           NaN  \n",
       "1           NaN  \n",
       "2           NaN  \n",
       "3           NaN  \n",
       "4           NaN  \n",
       "5           NaN  \n",
       "6           NaN  \n",
       "7           NaN  \n",
       "8           NaN  \n",
       "9           NaN  \n",
       "\n",
       "[10 rows x 22 columns]"
      ]
     },
     "execution_count": 7,
     "metadata": {},
     "output_type": "execute_result"
    }
   ],
   "source": [
    "data.head(10)"
   ]
  },
  {
   "cell_type": "code",
   "execution_count": 8,
   "metadata": {
    "collapsed": false
   },
   "outputs": [
    {
     "data": {
      "text/html": [
       "<div>\n",
       "<table border=\"1\" class=\"dataframe\">\n",
       "  <thead>\n",
       "    <tr style=\"text-align: right;\">\n",
       "      <th></th>\n",
       "      <th>created_utc</th>\n",
       "      <th>score</th>\n",
       "      <th>ups</th>\n",
       "      <th>downs</th>\n",
       "      <th>num_comments</th>\n",
       "      <th>link_flair_text</th>\n",
       "      <th>thumbnail</th>\n",
       "      <th>link_flair_css_class</th>\n",
       "      <th>author_flair_css_class</th>\n",
       "    </tr>\n",
       "  </thead>\n",
       "  <tbody>\n",
       "    <tr>\n",
       "      <th>count</th>\n",
       "      <td>9.970000e+02</td>\n",
       "      <td>997.000000</td>\n",
       "      <td>997.000000</td>\n",
       "      <td>997.000000</td>\n",
       "      <td>997.000000</td>\n",
       "      <td>0.0</td>\n",
       "      <td>0.0</td>\n",
       "      <td>0.0</td>\n",
       "      <td>0.0</td>\n",
       "    </tr>\n",
       "    <tr>\n",
       "      <th>mean</th>\n",
       "      <td>1.319635e+09</td>\n",
       "      <td>15.873621</td>\n",
       "      <td>20.096289</td>\n",
       "      <td>4.222668</td>\n",
       "      <td>2.587763</td>\n",
       "      <td>NaN</td>\n",
       "      <td>NaN</td>\n",
       "      <td>NaN</td>\n",
       "      <td>NaN</td>\n",
       "    </tr>\n",
       "    <tr>\n",
       "      <th>std</th>\n",
       "      <td>4.378123e+07</td>\n",
       "      <td>6.175323</td>\n",
       "      <td>7.474640</td>\n",
       "      <td>3.254988</td>\n",
       "      <td>4.322303</td>\n",
       "      <td>NaN</td>\n",
       "      <td>NaN</td>\n",
       "      <td>NaN</td>\n",
       "      <td>NaN</td>\n",
       "    </tr>\n",
       "    <tr>\n",
       "      <th>min</th>\n",
       "      <td>1.217184e+09</td>\n",
       "      <td>6.000000</td>\n",
       "      <td>10.000000</td>\n",
       "      <td>0.000000</td>\n",
       "      <td>0.000000</td>\n",
       "      <td>NaN</td>\n",
       "      <td>NaN</td>\n",
       "      <td>NaN</td>\n",
       "      <td>NaN</td>\n",
       "    </tr>\n",
       "    <tr>\n",
       "      <th>25%</th>\n",
       "      <td>1.294323e+09</td>\n",
       "      <td>12.000000</td>\n",
       "      <td>15.000000</td>\n",
       "      <td>2.000000</td>\n",
       "      <td>0.000000</td>\n",
       "      <td>NaN</td>\n",
       "      <td>NaN</td>\n",
       "      <td>NaN</td>\n",
       "      <td>NaN</td>\n",
       "    </tr>\n",
       "    <tr>\n",
       "      <th>50%</th>\n",
       "      <td>1.335820e+09</td>\n",
       "      <td>14.000000</td>\n",
       "      <td>18.000000</td>\n",
       "      <td>4.000000</td>\n",
       "      <td>1.000000</td>\n",
       "      <td>NaN</td>\n",
       "      <td>NaN</td>\n",
       "      <td>NaN</td>\n",
       "      <td>NaN</td>\n",
       "    </tr>\n",
       "    <tr>\n",
       "      <th>75%</th>\n",
       "      <td>1.352232e+09</td>\n",
       "      <td>18.000000</td>\n",
       "      <td>23.000000</td>\n",
       "      <td>6.000000</td>\n",
       "      <td>3.000000</td>\n",
       "      <td>NaN</td>\n",
       "      <td>NaN</td>\n",
       "      <td>NaN</td>\n",
       "      <td>NaN</td>\n",
       "    </tr>\n",
       "    <tr>\n",
       "      <th>max</th>\n",
       "      <td>1.376010e+09</td>\n",
       "      <td>75.000000</td>\n",
       "      <td>80.000000</td>\n",
       "      <td>32.000000</td>\n",
       "      <td>60.000000</td>\n",
       "      <td>NaN</td>\n",
       "      <td>NaN</td>\n",
       "      <td>NaN</td>\n",
       "      <td>NaN</td>\n",
       "    </tr>\n",
       "  </tbody>\n",
       "</table>\n",
       "</div>"
      ],
      "text/plain": [
       "        created_utc       score         ups       downs  num_comments  \\\n",
       "count  9.970000e+02  997.000000  997.000000  997.000000    997.000000   \n",
       "mean   1.319635e+09   15.873621   20.096289    4.222668      2.587763   \n",
       "std    4.378123e+07    6.175323    7.474640    3.254988      4.322303   \n",
       "min    1.217184e+09    6.000000   10.000000    0.000000      0.000000   \n",
       "25%    1.294323e+09   12.000000   15.000000    2.000000      0.000000   \n",
       "50%    1.335820e+09   14.000000   18.000000    4.000000      1.000000   \n",
       "75%    1.352232e+09   18.000000   23.000000    6.000000      3.000000   \n",
       "max    1.376010e+09   75.000000   80.000000   32.000000     60.000000   \n",
       "\n",
       "       link_flair_text  thumbnail  link_flair_css_class  \\\n",
       "count              0.0        0.0                   0.0   \n",
       "mean               NaN        NaN                   NaN   \n",
       "std                NaN        NaN                   NaN   \n",
       "min                NaN        NaN                   NaN   \n",
       "25%                NaN        NaN                   NaN   \n",
       "50%                NaN        NaN                   NaN   \n",
       "75%                NaN        NaN                   NaN   \n",
       "max                NaN        NaN                   NaN   \n",
       "\n",
       "       author_flair_css_class  \n",
       "count                     0.0  \n",
       "mean                      NaN  \n",
       "std                       NaN  \n",
       "min                       NaN  \n",
       "25%                       NaN  \n",
       "50%                       NaN  \n",
       "75%                       NaN  \n",
       "max                       NaN  "
      ]
     },
     "execution_count": 8,
     "metadata": {},
     "output_type": "execute_result"
    }
   ],
   "source": [
    "data.describe()"
   ]
  },
  {
   "cell_type": "markdown",
   "metadata": {},
   "source": [
    "# Exploring the relationship between various features and output features."
   ]
  },
  {
   "cell_type": "markdown",
   "metadata": {},
   "source": [
    "# Feature Selection\n",
    "\n",
    "How do I decide which features to include in a linear model? Here's one idea:\n",
    "\n",
    "Try different models, and only keep predictors in the model if they have small p-values.\n",
    "\n",
    "Check whether the R-squared value goes up when you add new predictors.\n",
    "\n",
    "What are the drawbacks to this approach?\n",
    "\n",
    "Linear models rely upon a lot of assumptions (such as the features being independent), and if those assumptions are violated (which they usually \n",
    "are), R-squared and p-values are less reliable.\n",
    "\n",
    "Using a p-value cutoff of 0.05 means that if you add 100 predictors to a model that are pure noise, 5 of them (on average) will still be counted as significant.\n",
    "\n",
    "R-squared is susceptible to overfitting, and thus there is no guarantee that a model with a high R-squared value will generalize. Below is an example:"
   ]
  },
  {
   "cell_type": "code",
   "execution_count": 9,
   "metadata": {
    "collapsed": false
   },
   "outputs": [
    {
     "data": {
      "image/png": "[encoded data removed]",
      "text/plain": [
       "<matplotlib.figure.Figure at 0xaa5aa58>"
      ]
     },
     "metadata": {},
     "output_type": "display_data"
    }
   ],
   "source": [
    "fig = plt.figure()\n",
    "plot1 = fig.add_subplot(1,1,1)\n",
    "plot1.scatter(data['score'],data['ups'])\n",
    "plt.title('Score versus Upvotes')\n",
    "plt.xlabel('Upvotes')\n",
    "plt.ylabel('Score')\n",
    "plt.show()"
   ]
  },
  {
   "cell_type": "code",
   "execution_count": 10,
   "metadata": {
    "collapsed": false
   },
   "outputs": [
    {
     "data": {
      "image/png": "[encoded data removed]",
      "text/plain": [
       "<matplotlib.figure.Figure at 0xac17fd0>"
      ]
     },
     "metadata": {},
     "output_type": "display_data"
    }
   ],
   "source": [
    "fig = plt.figure()\n",
    "plot2 = fig.add_subplot(1,1,1)\n",
    "plot2.scatter(data['score'],data['downs'])\n",
    "plt.title('Score versus Downvotes')\n",
    "plt.xlabel('Downvotes')\n",
    "plt.ylabel('Score')\n",
    "plt.show()"
   ]
  },
  {
   "cell_type": "code",
   "execution_count": 11,
   "metadata": {
    "collapsed": false
   },
   "outputs": [
    {
     "data": {
      "image/png": "[encoded data removed]",
      "text/plain": [
       "<matplotlib.figure.Figure at 0xb0f76d8>"
      ]
     },
     "metadata": {},
     "output_type": "display_data"
    }
   ],
   "source": [
    "fig = plt.figure()\n",
    "plot3 = fig.add_subplot(1,1,1)\n",
    "plot3.scatter(data['score'],data['num_comments'])\n",
    "plt.title('Score versus Number of Comments')\n",
    "plt.xlabel('Number of Comments')\n",
    "plt.ylabel('Score')\n",
    "plt.show()"
   ]
  },
  {
   "cell_type": "code",
   "execution_count": 12,
   "metadata": {
    "collapsed": false
   },
   "outputs": [
    {
     "data": {
      "text/plain": [
       "<seaborn.axisgrid.PairGrid at 0xb1006a0>"
      ]
     },
     "execution_count": 12,
     "metadata": {},
     "output_type": "execute_result"
    },
    {
     "data": {
      "image/png": "[encoded data removed]",
      "text/plain": [
       "<matplotlib.figure.Figure at 0xb100710>"
      ]
     },
     "metadata": {},
     "output_type": "display_data"
    }
   ],
   "source": [
    "# visualize the relationship between the features and the response using scatterplots\n",
    "seaborn.pairplot(data, x_vars=['ups','downs','num_comments'], y_vars='score', size=7, aspect=0.7, kind='reg')"
   ]
  },
  {
   "cell_type": "markdown",
   "metadata": {},
   "source": [
    "In the given dataset, we came to the conclusion that, our target feature i.e. SCORE is dependent upon some variables and independent of some varialbles, #'ups' is a strong variable to preddict the score feature.\n",
    "\n",
    "'downs' and 'num_comments' are not strong features and did not hold any strong relationship for predicting the score feature, but they were assumed to be consisting of a good relation, buts its not true, as can be seen from above graph.\n",
    "\n",
    "\n",
    "Nw, there are variables such as \n",
    "'created_utc', \n",
    "'domain', \n",
    "'id', \n",
    "'title', \n",
    "'author', \n",
    "'permalink', \n",
    "'selftext', \n",
    "'link_flair_text', \n",
    "'thumbnail', link_flair_css_class',\n",
    "'author_flair_css_class',\n",
    "'s_self',\n",
    "'name',\n",
    "'url', \n",
    "'distinguished',\n",
    "'subreddit_id', \n",
    "\n",
    "these have no significant relation in predicting the score feature.\n",
    "\n",
    "Many of them are even empty columns.\n",
    "\n",
    "Now, categorical variables like, 'over_18' and 'edited' are also same foe all the posts, so they will also have no significance in predicting the sore feature.\n",
    "\n",
    "\n",
    "The only variable we are left with is 'ups' , which is a strong feature in predicting the score.\n",
    "\n",
    "\n"
   ]
  },
  {
   "cell_type": "code",
   "execution_count": 13,
   "metadata": {
    "collapsed": false
   },
   "outputs": [
    {
     "data": {
      "text/html": [
       "<div>\n",
       "<table border=\"1\" class=\"dataframe\">\n",
       "  <thead>\n",
       "    <tr style=\"text-align: right;\">\n",
       "      <th></th>\n",
       "      <th>ups</th>\n",
       "      <th>downs</th>\n",
       "      <th>num_comments</th>\n",
       "    </tr>\n",
       "  </thead>\n",
       "  <tbody>\n",
       "    <tr>\n",
       "      <th>0</th>\n",
       "      <td>80</td>\n",
       "      <td>5</td>\n",
       "      <td>24</td>\n",
       "    </tr>\n",
       "    <tr>\n",
       "      <th>1</th>\n",
       "      <td>72</td>\n",
       "      <td>9</td>\n",
       "      <td>2</td>\n",
       "    </tr>\n",
       "    <tr>\n",
       "      <th>2</th>\n",
       "      <td>61</td>\n",
       "      <td>7</td>\n",
       "      <td>1</td>\n",
       "    </tr>\n",
       "    <tr>\n",
       "      <th>3</th>\n",
       "      <td>48</td>\n",
       "      <td>4</td>\n",
       "      <td>13</td>\n",
       "    </tr>\n",
       "    <tr>\n",
       "      <th>4</th>\n",
       "      <td>49</td>\n",
       "      <td>7</td>\n",
       "      <td>3</td>\n",
       "    </tr>\n",
       "    <tr>\n",
       "      <th>5</th>\n",
       "      <td>40</td>\n",
       "      <td>0</td>\n",
       "      <td>7</td>\n",
       "    </tr>\n",
       "    <tr>\n",
       "      <th>6</th>\n",
       "      <td>60</td>\n",
       "      <td>21</td>\n",
       "      <td>15</td>\n",
       "    </tr>\n",
       "    <tr>\n",
       "      <th>7</th>\n",
       "      <td>45</td>\n",
       "      <td>6</td>\n",
       "      <td>60</td>\n",
       "    </tr>\n",
       "    <tr>\n",
       "      <th>8</th>\n",
       "      <td>48</td>\n",
       "      <td>7</td>\n",
       "      <td>2</td>\n",
       "    </tr>\n",
       "    <tr>\n",
       "      <th>9</th>\n",
       "      <td>42</td>\n",
       "      <td>4</td>\n",
       "      <td>8</td>\n",
       "    </tr>\n",
       "  </tbody>\n",
       "</table>\n",
       "</div>"
      ],
      "text/plain": [
       "   ups  downs  num_comments\n",
       "0   80      5            24\n",
       "1   72      9             2\n",
       "2   61      7             1\n",
       "3   48      4            13\n",
       "4   49      7             3\n",
       "5   40      0             7\n",
       "6   60     21            15\n",
       "7   45      6            60\n",
       "8   48      7             2\n",
       "9   42      4             8"
      ]
     },
     "execution_count": 13,
     "metadata": {},
     "output_type": "execute_result"
    }
   ],
   "source": [
    "feature_cols = ['ups','downs','num_comments']\n",
    "X = data[feature_cols]\n",
    "X.head(10)\n"
   ]
  },
  {
   "cell_type": "markdown",
   "metadata": {},
   "source": [
    "# Agenda\n",
    "\n",
    "Using the **train/test split** procedure for model evaluation?\n",
    "How does **K-fold cross-validation** overcome this limitation?\n",
    "How can cross-validation be used for selecting **tuning parameters**, choosing between **models**, and selecting **features**?\n",
    "What are some possible **improvements** to cross-validation?"
   ]
  },
  {
   "cell_type": "code",
   "execution_count": 14,
   "metadata": {
    "collapsed": false
   },
   "outputs": [
    {
     "name": "stdout",
     "output_type": "stream",
     "text": [
      "<class 'pandas.core.frame.DataFrame'>\n",
      "(997, 3)\n"
     ]
    }
   ],
   "source": [
    "print(type(X))\n",
    "print(X.shape)"
   ]
  },
  {
   "cell_type": "code",
   "execution_count": 15,
   "metadata": {
    "collapsed": false
   },
   "outputs": [
    {
     "data": {
      "text/plain": [
       "0    75\n",
       "1    63\n",
       "2    54\n",
       "3    44\n",
       "4    42\n",
       "Name: score, dtype: int64"
      ]
     },
     "execution_count": 15,
     "metadata": {},
     "output_type": "execute_result"
    }
   ],
   "source": [
    "y = data['score']\n",
    "y.head()"
   ]
  },
  {
   "cell_type": "code",
   "execution_count": 16,
   "metadata": {
    "collapsed": false
   },
   "outputs": [
    {
     "name": "stdout",
     "output_type": "stream",
     "text": [
      "<class 'pandas.core.series.Series'>\n",
      "(997L,)\n"
     ]
    }
   ],
   "source": [
    "print(type(y))\n",
    "print(y.shape)"
   ]
  },
  {
   "cell_type": "markdown",
   "metadata": {},
   "source": [
    "# Cross validation for the dataset"
   ]
  },
  {
   "cell_type": "code",
   "execution_count": 17,
   "metadata": {
    "collapsed": true
   },
   "outputs": [],
   "source": [
    "from sklearn.cross_validation import cross_val_score"
   ]
  },
  {
   "cell_type": "code",
   "execution_count": 18,
   "metadata": {
    "collapsed": true
   },
   "outputs": [],
   "source": [
    "from sklearn.datasets import load_iris\n",
    "from sklearn.cross_validation import train_test_split\n",
    "from sklearn.neighbors import KNeighborsClassifier\n",
    "from sklearn import metrics"
   ]
  },
  {
   "cell_type": "code",
   "execution_count": 22,
   "metadata": {
    "collapsed": false
   },
   "outputs": [
    {
     "name": "stdout",
     "output_type": "stream",
     "text": [
      "0.448\n"
     ]
    }
   ],
   "source": [
    "# use train/test split with different random_state values\n",
    "X_train, X_test, y_train, y_test = train_test_split(X, y, random_state=4)\n",
    "\n",
    "# check classification accuracy of KNN with K=5\n",
    "knn = KNeighborsClassifier(n_neighbors=5)\n",
    "knn.fit(X_train, y_train)\n",
    "y_pred = knn.predict(X_test)\n",
    "print(metrics.accuracy_score(y_test, y_pred))"
   ]
  },
  {
   "cell_type": "code",
   "execution_count": 23,
   "metadata": {
    "collapsed": false
   },
   "outputs": [
    {
     "name": "stdout",
     "output_type": "stream",
     "text": [
      "Iteration                   Training set observations                   Testing set observations\n",
      "    1     [ 5  6  7  8  9 10 11 12 13 14 15 16 17 18 19 20 21 22 23 24]        [0 1 2 3 4]       \n",
      "    2     [ 0  1  2  3  4 10 11 12 13 14 15 16 17 18 19 20 21 22 23 24]        [5 6 7 8 9]       \n",
      "    3     [ 0  1  2  3  4  5  6  7  8  9 15 16 17 18 19 20 21 22 23 24]     [10 11 12 13 14]     \n",
      "    4     [ 0  1  2  3  4  5  6  7  8  9 10 11 12 13 14 20 21 22 23 24]     [15 16 17 18 19]     \n",
      "    5     [ 0  1  2  3  4  5  6  7  8  9 10 11 12 13 14 15 16 17 18 19]     [20 21 22 23 24]     \n"
     ]
    }
   ],
   "source": [
    "# simulate splitting a dataset of 25 observations into 5 folds\n",
    "from sklearn.cross_validation import KFold\n",
    "kf = KFold(25, n_folds=5, shuffle=False)\n",
    "\n",
    "# print the contents of each training and testing set\n",
    "print('{} {:^61} {}'.format('Iteration', 'Training set observations', 'Testing set observations'))\n",
    "for iteration, data in enumerate(kf, start=1):\n",
    "    print('{:^9} {} {:^25}'.format(iteration, data[0], data[1]))"
   ]
  },
  {
   "cell_type": "code",
   "execution_count": 24,
   "metadata": {
    "collapsed": true
   },
   "outputs": [],
   "source": [
    "from sklearn.cross_validation import cross_val_score"
   ]
  },
  {
   "cell_type": "code",
   "execution_count": 26,
   "metadata": {
    "collapsed": false
   },
   "outputs": [
    {
     "name": "stdout",
     "output_type": "stream",
     "text": [
      "[ 0.44354839  0.5         0.55140187  0.50980392  0.52525253  0.56122449\n",
      "  0.61956522  0.64835165  0.61363636  0.57142857]\n"
     ]
    }
   ],
   "source": [
    "# 10-fold cross-validation with K=5 for KNN (the n_neighbors parameter)\n",
    "knn = KNeighborsClassifier(n_neighbors=5)\n",
    "scores = cross_val_score(knn, X, y, cv=10, scoring='accuracy')\n",
    "print(scores)"
   ]
  },
  {
   "cell_type": "code",
   "execution_count": 27,
   "metadata": {
    "collapsed": false
   },
   "outputs": [
    {
     "name": "stdout",
     "output_type": "stream",
     "text": [
      "0.554421299368\n"
     ]
    }
   ],
   "source": [
    "# use average accuracy as an estimate of out-of-sample accuracy\n",
    "print(scores.mean())"
   ]
  },
  {
   "cell_type": "code",
   "execution_count": 28,
   "metadata": {
    "collapsed": false
   },
   "outputs": [
    {
     "name": "stdout",
     "output_type": "stream",
     "text": [
      "[0.70330977173661791, 0.63198125671929195, 0.57956438267626298, 0.5748596991655931, 0.55442129936806106, 0.53548129474752582, 0.5106859279584065, 0.4940002576523404, 0.49564786738687727, 0.48311584752416009, 0.46964872171603272, 0.4433289821773142, 0.44158007032462737, 0.43895219819054104, 0.40764037828936966, 0.39908434358102018, 0.38887538332622429, 0.38469683234053287, 0.37191596502969126, 0.36521209727567899, 0.35270790165611843, 0.33132449614845733, 0.32843731608034843, 0.31634163454134018, 0.29490788887778652, 0.29217852517366616, 0.27536677613160321, 0.26695231057424262, 0.25702523683182227, 0.26176655981347785]\n"
     ]
    }
   ],
   "source": [
    "# search for an optimal value of K for KNN\n",
    "k_range = list(range(1, 31))\n",
    "k_scores = []\n",
    "for k in k_range:\n",
    "    knn = KNeighborsClassifier(n_neighbors=k)\n",
    "    scores = cross_val_score(knn, X, y, cv=10, scoring='accuracy')\n",
    "    k_scores.append(scores.mean())\n",
    "print(k_scores)"
   ]
  },
  {
   "cell_type": "code",
   "execution_count": 29,
   "metadata": {
    "collapsed": false
   },
   "outputs": [
    {
     "data": {
      "text/plain": [
       "<matplotlib.text.Text at 0xc2333c8>"
      ]
     },
     "execution_count": 29,
     "metadata": {},
     "output_type": "execute_result"
    },
    {
     "data": {
      "image/png": "[encoded data removed]",
      "text/plain": [
       "<matplotlib.figure.Figure at 0x7c61fd0>"
      ]
     },
     "metadata": {},
     "output_type": "display_data"
    }
   ],
   "source": [
    "import matplotlib.pyplot as plt\n",
    "%matplotlib inline\n",
    "\n",
    "# plot the value of K for KNN (x-axis) versus the cross-validated accuracy (y-axis)\n",
    "plt.plot(k_range, k_scores)\n",
    "plt.xlabel('Value of K for KNN')\n",
    "plt.ylabel('Cross-Validated Accuracy')"
   ]
  },
  {
   "cell_type": "markdown",
   "metadata": {},
   "source": [
    "# Splitting the dataset into training and testin model"
   ]
  },
  {
   "cell_type": "code",
   "execution_count": 30,
   "metadata": {
    "collapsed": true
   },
   "outputs": [],
   "source": [
    "from sklearn.cross_validation import train_test_split\n",
    "X_train, X_test, y_train, y_test = train_test_split(X, y, random_state=1)"
   ]
  },
  {
   "cell_type": "code",
   "execution_count": 31,
   "metadata": {
    "collapsed": false
   },
   "outputs": [
    {
     "name": "stdout",
     "output_type": "stream",
     "text": [
      "(747, 3)\n",
      "(747L,)\n",
      "(250, 3)\n",
      "(250L,)\n"
     ]
    }
   ],
   "source": [
    "# default split is 75% for training and 25% for testing\n",
    "print(X_train.shape)\n",
    "print(y_train.shape)\n",
    "print(X_test.shape)\n",
    "print(y_test.shape)"
   ]
  },
  {
   "cell_type": "markdown",
   "metadata": {},
   "source": [
    "# Developing the linear predictive model."
   ]
  },
  {
   "cell_type": "code",
   "execution_count": 32,
   "metadata": {
    "collapsed": false
   },
   "outputs": [
    {
     "data": {
      "text/plain": [
       "LinearRegression(copy_X=True, fit_intercept=True, n_jobs=1, normalize=False)"
      ]
     },
     "execution_count": 32,
     "metadata": {},
     "output_type": "execute_result"
    }
   ],
   "source": [
    "# import model\n",
    "from sklearn.linear_model import LinearRegression\n",
    "\n",
    "# instantiate\n",
    "linreg = LinearRegression()\n",
    "\n",
    "# fit the model to the training data (learn the coefficients)\n",
    "linreg.fit(X_train, y_train)"
   ]
  },
  {
   "cell_type": "code",
   "execution_count": 34,
   "metadata": {
    "collapsed": false
   },
   "outputs": [
    {
     "name": "stdout",
     "output_type": "stream",
     "text": [
      "-7.1054273576e-15\n",
      "[  1.00000000e+00  -1.00000000e+00   1.36873700e-16]\n"
     ]
    }
   ],
   "source": [
    "# print the intercept and coefficients\n",
    "print(linreg.intercept_)\n",
    "print(linreg.coef_)"
   ]
  },
  {
   "cell_type": "code",
   "execution_count": 35,
   "metadata": {
    "collapsed": false
   },
   "outputs": [
    {
     "data": {
      "text/plain": [
       "[('ups', 1.0000000000000004),\n",
       " ('downs', -1.0000000000000002),\n",
       " ('num_comments', 1.3687369962001413e-16)]"
      ]
     },
     "execution_count": 35,
     "metadata": {},
     "output_type": "execute_result"
    }
   ],
   "source": [
    "# pair the feature names with the coefficients\n",
    "list(zip(feature_cols, linreg.coef_))"
   ]
  },
  {
   "cell_type": "code",
   "execution_count": 36,
   "metadata": {
    "collapsed": true
   },
   "outputs": [],
   "source": [
    "# make predictions on the testing set\n",
    "y_pred = linreg.predict(X_test)"
   ]
  },
  {
   "cell_type": "code",
   "execution_count": 37,
   "metadata": {
    "collapsed": false
   },
   "outputs": [
    {
     "data": {
      "text/plain": [
       "array([ 17.,  12.,  13.,   9.,  17.,   9.,  17.,  14.,  14.,  27.,  11.,\n",
       "        23.,  17.,  17.,  12.,  20.,  23.,  39.,  10.,  13.,  12.,  11.,\n",
       "        13.,  12.,  10.,  22.,  21.,  12.,  13.,  11.,  10.,  11.,  11.,\n",
       "        13.,  14.,  17.,  22.,  10.,  12.,  13.,  12.,  13.,  22.,  22.,\n",
       "        21.,  14.,  13.,  27.,   8.,  13.,  14.,  28.,  12.,  30.,  22.,\n",
       "        12.,  10.,  11.,  13.,  13.,  17.,  17.,  14.,  13.,  13.,  13.,\n",
       "        12.,  13.,  13.,  34.,  10.,  11.,  20.,   9.,  15.,  25.,  17.,\n",
       "        14.,  16.,  12.,  17.,  12.,  10.,  13.,  11.,  15.,  10.,  13.,\n",
       "        13.,  10.,  13.,  19.,  14.,  11.,  14.,  15.,  11.,  11.,  19.,\n",
       "        20.,  15.,  35.,  13.,  21.,  10.,  13.,  18.,  12.,  19.,  13.,\n",
       "        14.,  13.,  11.,  26.,  11.,  20.,  13.,  12.,  24.,  11.,  20.,\n",
       "        17.,  44.,  17.,  14.,  12.,  10.,  15.,  14.,  12.,  13.,  18.,\n",
       "        13.,  54.,  11.,  16.,  12.,  11.,  13.,  13.,  25.,  23.,  10.,\n",
       "        11.,  22.,  11.,  12.,  10.,  12.,  15.,  15.,  13.,  41.,  13.,\n",
       "        28.,  13.,  16.,  13.,  25.,  17.,  21.,  19.,  21.,  12.,  13.,\n",
       "        13.,  17.,  12.,  10.,  19.,  19.,  26.,  12.,  13.,  13.,  19.,\n",
       "        21.,  13.,  11.,  12.,  20.,  26.,  14.,  16.,  15.,  14.,  20.,\n",
       "        18.,  12.,  15.,  11.,  11.,  17.,  14.,  10.,  15.,  10.,  13.,\n",
       "        13.,  19.,   9.,   9.,   6.,  29.,  12.,  14.,  31.,  13.,  18.,\n",
       "        12.,  13.,  16.,  11.,  16.,  11.,  16.,  14.,  20.,  13.,  24.,\n",
       "        19.,  12.,  17.,  16.,  12.,  10.,  23.,  13.,  11.,  12.,  24.,\n",
       "        19.,  10.,  13.,  12.,  17.,  17.,  17.,  22.,  37.,  12.,  23.,\n",
       "        17.,  13.,  14.,  15.,  12.,  13.,  21.,  11.])"
      ]
     },
     "execution_count": 37,
     "metadata": {},
     "output_type": "execute_result"
    }
   ],
   "source": [
    "y_pred"
   ]
  },
  {
   "cell_type": "code",
   "execution_count": 39,
   "metadata": {
    "collapsed": false
   },
   "outputs": [
    {
     "name": "stdout",
     "output_type": "stream",
     "text": [
      "3.77366096265e-15\n"
     ]
    }
   ],
   "source": [
    "# compute the RMSE of our predictions\n",
    "print(np.sqrt(metrics.mean_squared_error(y_test, y_pred)))"
   ]
  },
  {
   "cell_type": "code",
   "execution_count": null,
   "metadata": {
    "collapsed": true
   },
   "outputs": [],
   "source": []
  }
 ],
 "metadata": {
  "kernelspec": {
   "display_name": "Python [conda env:gl-env]",
   "language": "python",
   "name": "conda-env-gl-env-py"
  },
  "language_info": {
   "codemirror_mode": {
    "name": "ipython",
    "version": 2
   },
   "file_extension": ".py",
   "mimetype": "text/x-python",
   "name": "python",
   "nbconvert_exporter": "python",
   "pygments_lexer": "ipython2",
   "version": "2.7.11"
  }
 },
 "nbformat": 4,
 "nbformat_minor": 1
}
